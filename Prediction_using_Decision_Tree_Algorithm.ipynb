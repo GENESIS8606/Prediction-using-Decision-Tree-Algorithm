{
 "cells": [
  {
   "cell_type": "code",
   "execution_count": null,
   "id": "da2fff03-8a47-4b7e-bc4b-6cabf3ab6d40",
   "metadata": {},
   "outputs": [],
   "source": [
    "Lenac Liju  ---->       Prediction using Decision Tree Algorithm"
   ]
  },
  {
   "cell_type": "code",
   "execution_count": null,
   "id": "50b8147f-5b0f-429d-92a0-36a79ddea21b",
   "metadata": {},
   "outputs": [],
   "source": [
    "import pandas as pd\n",
    "from sklearn.model_selection import train_test_split\n",
    "from sklearn.tree import DecisionTreeClassifier\n",
    "from sklearn.metrics import accuracy_score\n",
    "from sklearn.preprocessing import LabelEncoder\n",
    "from sklearn.tree import export_graphviz\n",
    "import graphviz"
   ]
  },
  {
   "cell_type": "code",
   "execution_count": null,
   "id": "7973cfe1-7ce2-4c9e-bbe8-eaac3c129bd1",
   "metadata": {},
   "outputs": [],
   "source": [
    "# Load dataset from local file\n",
    "df = pd.read_csv(r'C:\\Users\\lenac\\Downloads\\Iris.csv')\n",
    "df.head()"
   ]
  },
  {
   "cell_type": "code",
   "execution_count": null,
   "id": "e4dc6bdf-0e5b-4b99-b391-36c386d53cf4",
   "metadata": {},
   "outputs": [],
   "source": [
    "# Preprocess the data# Drop the Id column\n",
    "df = df.drop(columns=['Id'])  \n",
    "X = df.drop(columns=['Species'])\n",
    "y = df['Species']"
   ]
  },
  {
   "cell_type": "code",
   "execution_count": null,
   "id": "3a17cfba-9fc9-41d5-9626-8de94e6d7fd9",
   "metadata": {},
   "outputs": [],
   "source": [
    "# Encode the target variable\n",
    "le = LabelEncoder()\n",
    "y = le.fit_transform(y)"
   ]
  },
  {
   "cell_type": "code",
   "execution_count": null,
   "id": "fd64eb51-0077-4ebd-93aa-7f72b2afc030",
   "metadata": {},
   "outputs": [],
   "source": [
    "# Split data into training and test sets\n",
    "X_train, X_test, y_train, y_test = train_test_split(X, y, test_size=0.3, random_state=42)\n"
   ]
  },
  {
   "cell_type": "code",
   "execution_count": null,
   "id": "4ea3221e-fa56-4b0a-a0f5-d38eb3fbbb8c",
   "metadata": {},
   "outputs": [],
   "source": [
    "#  Train the Decision Tree Classifier\n",
    "clf = DecisionTreeClassifier(random_state=42)\n",
    "clf.fit(X_train, y_train)"
   ]
  },
  {
   "cell_type": "code",
   "execution_count": null,
   "id": "cba3d82d-8021-4b5e-bdb9-4c4e08491e13",
   "metadata": {},
   "outputs": [],
   "source": [
    "#  Evaluate the model\n",
    "y_pred = clf.predict(X_test)\n",
    "accuracy = accuracy_score(y_test, y_pred)\n",
    "print(f\"Accuracy: {accuracy:.2f}\")"
   ]
  },
  {
   "cell_type": "code",
   "execution_count": null,
   "id": "d4a1956f-e159-4463-90d7-d0c2fb174bb3",
   "metadata": {},
   "outputs": [],
   "source": [
    "# Visualize the Decision Tree\n",
    "dot_data = export_graphviz(clf, out_file=None, \n",
    "                           feature_names=X.columns,  \n",
    "                           class_names=le.classes_,  \n",
    "                           filled=True, rounded=True,  \n",
    "                           special_characters=True)  \n",
    "graph = graphviz.Source(dot_data)  \n",
    "graph"
   ]
  },
  {
   "cell_type": "code",
   "execution_count": null,
   "id": "1158d794-2a4b-40b7-9adb-1013000a619b",
   "metadata": {},
   "outputs": [],
   "source": [
    "# Function to predict new data\n",
    "def predict_new_data(new_data):\n",
    "    # Convert new_data to DataFrame\n",
    "    new_df = pd.DataFrame(new_data, columns=X.columns)\n",
    "    \n",
    "    # Make predictions\n",
    "    predictions = clf.predict(new_df)\n",
    "    \n",
    "    # Convert predictions back to original class labels\n",
    "    predicted_classes = le.inverse_transform(predictions)\n",
    "    \n",
    "    return predicted_classes"
   ]
  },
  {
   "cell_type": "code",
   "execution_count": null,
   "id": "7ee4f0dd-976b-4d88-b9a1-56c0bbce9718",
   "metadata": {},
   "outputs": [],
   "source": [
    "# Function to get user input for new data\n",
    "def get_user_input():\n",
    "    new_data = []\n",
    "    print(\"Enter new data points (type 'stop' to finish):\")\n",
    "    \n",
    "    while True:\n",
    "        user_input = input(\"Enter data (SepalLengthCm, SepalWidthCm, PetalLengthCm, PetalWidthCm): \")\n",
    "        \n",
    "        if user_input.lower() == 'stop':\n",
    "            break\n",
    "        \n",
    "        try:\n",
    "            data_point = list(map(float, user_input.split(',')))\n",
    "            if len(data_point) == 4:\n",
    "                new_data.append(data_point)\n",
    "            else:\n",
    "                print(\"Please enter exactly 4 values.\")\n",
    "        except ValueError:\n",
    "            print(\"Invalid input. Please enter numeric values separated by commas.\")\n",
    "    \n",
    "    return new_data"
   ]
  },
  {
   "cell_type": "code",
   "execution_count": null,
   "id": "7f6f7a48-50b1-4616-82b6-f34b8304ff68",
   "metadata": {},
   "outputs": [],
   "source": [
    "# Get new data from user\n",
    "new_data = get_user_input()\n",
    "\n",
    "# Predict and display the classes for the new data\n",
    "if new_data:\n",
    "    predicted_classes = predict_new_data(new_data)\n",
    "    for i, data_point in enumerate(new_data):\n",
    "        print(f\"Data point: {data_point} -> Predicted class: {predicted_classes[i]}\")\n",
    "else:\n",
    "    print(\"No new data entered.\")"
   ]
  },
  {
   "cell_type": "code",
   "execution_count": null,
   "id": "050c364c-1688-42bf-8929-41a3ccc264f7",
   "metadata": {},
   "outputs": [],
   "source": []
  }
 ],
 "metadata": {
  "kernelspec": {
   "display_name": "Python 3 (ipykernel)",
   "language": "python",
   "name": "python3"
  },
  "language_info": {
   "codemirror_mode": {
    "name": "ipython",
    "version": 3
   },
   "file_extension": ".py",
   "mimetype": "text/x-python",
   "name": "python",
   "nbconvert_exporter": "python",
   "pygments_lexer": "ipython3",
   "version": "3.11.7"
  }
 },
 "nbformat": 4,
 "nbformat_minor": 5
}
